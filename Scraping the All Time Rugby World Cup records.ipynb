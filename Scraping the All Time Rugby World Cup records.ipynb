{
 "cells": [
  {
   "cell_type": "markdown",
   "metadata": {},
   "source": [
    "# Scraping the All Time RWC records"
   ]
  },
  {
   "cell_type": "markdown",
   "metadata": {},
   "source": [
    "In this project I will be scraping the All Time RWC records from wikipedia. This is a complete list of total matches played by all countries that were invited or have qualified for the Rugby World Cup since the 1987 edition. The data itself came from the StatsHub of the 2015 RWC website. \n",
    "\n",
    "This all-time table compares national teams that have participated in the Rugby World Cup by a number of criteria including matches, wins, losses, draws, total points for, total points against, etc.\n",
    "\n",
    "This project is part of a larger project of mine to collect, combine, clean, analyse, and visualize data relevant to #RWC2023."
   ]
  },
  {
   "cell_type": "markdown",
   "metadata": {},
   "source": [
    "First, I make sure that my scraper is working and I print the entire html file."
   ]
  },
  {
   "cell_type": "code",
   "execution_count": 50,
   "metadata": {},
   "outputs": [],
   "source": [
    "from bs4 import BeautifulSoup\n",
    "import requests\n",
    "import pandas as pd\n",
    "\n",
    "URL ='https://en.wikipedia.org/wiki/Rugby_World_Cup_all-time_table'\n",
    "response = requests.get(URL)\n",
    "soup = BeautifulSoup(response.text,'html.parser')\n"
   ]
  },
  {
   "cell_type": "markdown",
   "metadata": {},
   "source": [
    "Next, using the Mozilla inspector, I isolated and found where the data is stored, in a table of class \"wikitable sortable\". I isolate it using the soup.find() method. I essentially \"sliced\" the HTML to isolate the table."
   ]
  },
  {
   "cell_type": "code",
   "execution_count": 49,
   "metadata": {
    "scrolled": true
   },
   "outputs": [],
   "source": [
    "table = soup.find('table', {'class':'wikitable sortable'}).tbody"
   ]
  },
  {
   "cell_type": "markdown",
   "metadata": {},
   "source": [
    "Now, I to put it simply, I see that all rows, start with 'tr', and all of my columns start with 'th'. I isolate these; the columns variable will also serve as an index later. I also take the opportunity to do a little cleaning and get rid of the '\\n'."
   ]
  },
  {
   "cell_type": "code",
   "execution_count": 40,
   "metadata": {
    "scrolled": true
   },
   "outputs": [
    {
     "name": "stdout",
     "output_type": "stream",
     "text": [
      "['Country', 'Pld', 'W', 'D', 'L', 'PF', 'PA', 'PD', '%', 'TB', 'LB', 'Pts', 'Avgpts', 'Best finish']\n"
     ]
    }
   ],
   "source": [
    "rows = table.find_all('tr')\n",
    "columns = [i.text.replace('\\n', '') for i in rows[0].find_all('th')]\n",
    "\n",
    "print(columns)"
   ]
  },
  {
   "cell_type": "markdown",
   "metadata": {},
   "source": [
    "The index looks just as it should. From here, my goal is to populate a dataframe with the values in the \"rows\" variable, and using the \"columns\" index  and columns I just created."
   ]
  },
  {
   "cell_type": "markdown",
   "metadata": {},
   "source": [
    "The for loop:\n",
    "- Goes through all of the rows and takes the values stored in 'td'.\n",
    "- Populates the dataframe using those values and also replaces some of the ~rogue~ strings along the way. "
   ]
  },
  {
   "cell_type": "code",
   "execution_count": 38,
   "metadata": {
    "scrolled": true
   },
   "outputs": [],
   "source": [
    "df = pd.DataFrame(columns=columns)\n",
    "\n",
    "for i in range(1,len(rows)):\n",
    "    tds = rows[i].find_all('td')\n",
    "    values = [td.text.replace('\\n','').replace('\\xa0','').replace('—','0') for td in tds]\n",
    "    \n",
    "    df = df.append(pd.Series(values, index=columns), ignore_index=True)"
   ]
  },
  {
   "cell_type": "markdown",
   "metadata": {},
   "source": [
    "Let's see if this worked."
   ]
  },
  {
   "cell_type": "code",
   "execution_count": 44,
   "metadata": {},
   "outputs": [
    {
     "data": {
      "text/html": [
       "<div>\n",
       "<style scoped>\n",
       "    .dataframe tbody tr th:only-of-type {\n",
       "        vertical-align: middle;\n",
       "    }\n",
       "\n",
       "    .dataframe tbody tr th {\n",
       "        vertical-align: top;\n",
       "    }\n",
       "\n",
       "    .dataframe thead th {\n",
       "        text-align: right;\n",
       "    }\n",
       "</style>\n",
       "<table border=\"1\" class=\"dataframe\">\n",
       "  <thead>\n",
       "    <tr style=\"text-align: right;\">\n",
       "      <th></th>\n",
       "      <th>Country</th>\n",
       "      <th>Pld</th>\n",
       "      <th>W</th>\n",
       "      <th>D</th>\n",
       "      <th>L</th>\n",
       "      <th>PF</th>\n",
       "      <th>PA</th>\n",
       "      <th>PD</th>\n",
       "      <th>%</th>\n",
       "      <th>TB</th>\n",
       "      <th>LB</th>\n",
       "      <th>Pts</th>\n",
       "      <th>Avgpts</th>\n",
       "      <th>Best finish</th>\n",
       "    </tr>\n",
       "  </thead>\n",
       "  <tbody>\n",
       "    <tr>\n",
       "      <th>0</th>\n",
       "      <td>South Africa</td>\n",
       "      <td>43</td>\n",
       "      <td>36</td>\n",
       "      <td>0</td>\n",
       "      <td>7</td>\n",
       "      <td>1,512</td>\n",
       "      <td>553</td>\n",
       "      <td>+959</td>\n",
       "      <td>83.72</td>\n",
       "      <td>14</td>\n",
       "      <td>2</td>\n",
       "      <td>128</td>\n",
       "      <td>3.20</td>\n",
       "      <td>Winner</td>\n",
       "    </tr>\n",
       "    <tr>\n",
       "      <th>1</th>\n",
       "      <td>New Zealand</td>\n",
       "      <td>56</td>\n",
       "      <td>49</td>\n",
       "      <td>0</td>\n",
       "      <td>7</td>\n",
       "      <td>2,552</td>\n",
       "      <td>753</td>\n",
       "      <td>+1,799</td>\n",
       "      <td>87.50</td>\n",
       "      <td>15</td>\n",
       "      <td>1</td>\n",
       "      <td>169</td>\n",
       "      <td>3.13</td>\n",
       "      <td>Winner</td>\n",
       "    </tr>\n",
       "    <tr>\n",
       "      <th>2</th>\n",
       "      <td>Australia</td>\n",
       "      <td>53</td>\n",
       "      <td>42</td>\n",
       "      <td>0</td>\n",
       "      <td>11</td>\n",
       "      <td>1,794</td>\n",
       "      <td>763</td>\n",
       "      <td>+1,031</td>\n",
       "      <td>79.25</td>\n",
       "      <td>11</td>\n",
       "      <td>3</td>\n",
       "      <td>145</td>\n",
       "      <td>2.84</td>\n",
       "      <td>Winner</td>\n",
       "    </tr>\n",
       "    <tr>\n",
       "      <th>3</th>\n",
       "      <td>England</td>\n",
       "      <td>48</td>\n",
       "      <td>34</td>\n",
       "      <td>1</td>\n",
       "      <td>13</td>\n",
       "      <td>1,511</td>\n",
       "      <td>685</td>\n",
       "      <td>+826</td>\n",
       "      <td>71.88</td>\n",
       "      <td>10</td>\n",
       "      <td>1</td>\n",
       "      <td>127</td>\n",
       "      <td>2.65</td>\n",
       "      <td>Winner</td>\n",
       "    </tr>\n",
       "    <tr>\n",
       "      <th>4</th>\n",
       "      <td>France</td>\n",
       "      <td>52</td>\n",
       "      <td>36</td>\n",
       "      <td>2</td>\n",
       "      <td>14</td>\n",
       "      <td>1,605</td>\n",
       "      <td>937</td>\n",
       "      <td>+668</td>\n",
       "      <td>71.15</td>\n",
       "      <td>10</td>\n",
       "      <td>2</td>\n",
       "      <td>129</td>\n",
       "      <td>2.48</td>\n",
       "      <td>Runner-up</td>\n",
       "    </tr>\n",
       "  </tbody>\n",
       "</table>\n",
       "</div>"
      ],
      "text/plain": [
       "        Country Pld   W  D   L     PF   PA      PD      %  TB LB  Pts Avgpts  \\\n",
       "0  South Africa  43  36  0   7  1,512  553    +959  83.72  14  2  128   3.20   \n",
       "1   New Zealand  56  49  0   7  2,552  753  +1,799  87.50  15  1  169   3.13   \n",
       "2     Australia  53  42  0  11  1,794  763  +1,031  79.25  11  3  145   2.84   \n",
       "3       England  48  34  1  13  1,511  685    +826  71.88  10  1  127   2.65   \n",
       "4        France  52  36  2  14  1,605  937    +668  71.15  10  2  129   2.48   \n",
       "\n",
       "  Best finish  \n",
       "0      Winner  \n",
       "1      Winner  \n",
       "2      Winner  \n",
       "3      Winner  \n",
       "4   Runner-up  "
      ]
     },
     "execution_count": 44,
     "metadata": {},
     "output_type": "execute_result"
    }
   ],
   "source": [
    "df.head()"
   ]
  },
  {
   "cell_type": "markdown",
   "metadata": {},
   "source": [
    "Looks just as it should!\n",
    "Finally, I export the dataframe to a csv file. This csv file can be found in the repo."
   ]
  },
  {
   "cell_type": "code",
   "execution_count": 36,
   "metadata": {},
   "outputs": [],
   "source": [
    "df.to_csv(r'C:\\Users\\lacar\\DQ Projects\\Rugby DataVis' + '\\\\alltimeRWCrecords.csv', index=False)"
   ]
  }
 ],
 "metadata": {
  "kernelspec": {
   "display_name": "Python 3",
   "language": "python",
   "name": "python3"
  },
  "language_info": {
   "codemirror_mode": {
    "name": "ipython",
    "version": 3
   },
   "file_extension": ".py",
   "mimetype": "text/x-python",
   "name": "python",
   "nbconvert_exporter": "python",
   "pygments_lexer": "ipython3",
   "version": "3.8.5"
  }
 },
 "nbformat": 4,
 "nbformat_minor": 4
}
